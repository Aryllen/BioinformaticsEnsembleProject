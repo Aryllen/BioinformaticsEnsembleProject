{
 "cells": [
  {
   "cell_type": "markdown",
   "metadata": {},
   "source": [
    "# Visualization\n",
    "Creation of Venn Diagrams to visualize the overlap in genes selected by various models.\n",
    "\n",
    "The files used are the super matrices created in the Data Wrangling notebook."
   ]
  },
  {
   "cell_type": "code",
   "execution_count": 5,
   "metadata": {},
   "outputs": [],
   "source": [
    "# For installing the needed package\n",
    "source(\"http://www.bioconductor.org/biocLite.R\")\n",
    "class(biocLite)\n",
    "biocLite(\"limma\")"
   ]
  },
  {
   "cell_type": "code",
   "execution_count": 1,
   "metadata": {},
   "outputs": [],
   "source": [
    "# Need package\n",
    "library(limma)"
   ]
  },
  {
   "cell_type": "code",
   "execution_count": 2,
   "metadata": {},
   "outputs": [],
   "source": [
    "# Read in files\n",
    "coef.super.matrix.10k = read.table(\"super_matrix/coef_10k.txt\", sep=\"\\t\", header=T)\n",
    "coef.super.matrix.5k = read.table(\"super_matrix/coef_5k.txt\", sep=\"\\t\", header=T)\n",
    "coef.super.matrix.2.5k = read.table(\"super_matrix/coef_2.5k.txt\", sep=\"\\t\", header=T)\n",
    "coef.super.matrix.1k = read.table(\"super_matrix/coef_1k.txt\", sep=\"\\t\", header=T)\n",
    "coef.super.matrix.100 = read.table(\"super_matrix/coef_100.txt\", sep=\"\\t\", header=T)"
   ]
  },
  {
   "cell_type": "code",
   "execution_count": 3,
   "metadata": {},
   "outputs": [
    {
     "data": {
      "text/html": [
       "<table>\n",
       "<thead><tr><th></th><th scope=col>ENSG00000000003.13</th><th scope=col>ENSG00000000971.14</th><th scope=col>ENSG00000001084.9</th><th scope=col>ENSG00000001167.13</th><th scope=col>ENSG00000001461.15</th></tr></thead>\n",
       "<tbody>\n",
       "\t<tr><th scope=row>LogReg</th><td>NA</td><td>NA</td><td>NA</td><td>NA</td><td>NA</td></tr>\n",
       "\t<tr><th scope=row>Lasso</th><td>NA</td><td>NA</td><td>NA</td><td>NA</td><td>NA</td></tr>\n",
       "\t<tr><th scope=row>DecTree</th><td>NA</td><td>NA</td><td>NA</td><td>NA</td><td>NA</td></tr>\n",
       "\t<tr><th scope=row>ExTree</th><td>NA</td><td>NA</td><td>NA</td><td>NA</td><td>NA</td></tr>\n",
       "\t<tr><th scope=row>NN</th><td>NA</td><td>NA</td><td>NA</td><td>NA</td><td>NA</td></tr>\n",
       "</tbody>\n",
       "</table>\n"
      ],
      "text/latex": [
       "\\begin{tabular}{r|lllll}\n",
       "  & ENSG00000000003.13 & ENSG00000000971.14 & ENSG00000001084.9 & ENSG00000001167.13 & ENSG00000001461.15\\\\\n",
       "\\hline\n",
       "\tLogReg & NA & NA & NA & NA & NA\\\\\n",
       "\tLasso & NA & NA & NA & NA & NA\\\\\n",
       "\tDecTree & NA & NA & NA & NA & NA\\\\\n",
       "\tExTree & NA & NA & NA & NA & NA\\\\\n",
       "\tNN & NA & NA & NA & NA & NA\\\\\n",
       "\\end{tabular}\n"
      ],
      "text/markdown": [
       "\n",
       "| <!--/--> | ENSG00000000003.13 | ENSG00000000971.14 | ENSG00000001084.9 | ENSG00000001167.13 | ENSG00000001461.15 | \n",
       "|---|---|---|---|---|\n",
       "| LogReg | NA | NA | NA | NA | NA | \n",
       "| Lasso | NA | NA | NA | NA | NA | \n",
       "| DecTree | NA | NA | NA | NA | NA | \n",
       "| ExTree | NA | NA | NA | NA | NA | \n",
       "| NN | NA | NA | NA | NA | NA | \n",
       "\n",
       "\n"
      ],
      "text/plain": [
       "        ENSG00000000003.13 ENSG00000000971.14 ENSG00000001084.9\n",
       "LogReg  NA                 NA                 NA               \n",
       "Lasso   NA                 NA                 NA               \n",
       "DecTree NA                 NA                 NA               \n",
       "ExTree  NA                 NA                 NA               \n",
       "NN      NA                 NA                 NA               \n",
       "        ENSG00000001167.13 ENSG00000001461.15\n",
       "LogReg  NA                 NA                \n",
       "Lasso   NA                 NA                \n",
       "DecTree NA                 NA                \n",
       "ExTree  NA                 NA                \n",
       "NN      NA                 NA                "
      ]
     },
     "metadata": {},
     "output_type": "display_data"
    },
    {
     "data": {
      "text/html": [
       "<table>\n",
       "<thead><tr><th></th><th scope=col>ENSG00000000003.13</th><th scope=col>ENSG00000000971.14</th><th scope=col>ENSG00000001084.9</th><th scope=col>ENSG00000001561.6</th><th scope=col>ENSG00000002586.16</th></tr></thead>\n",
       "<tbody>\n",
       "\t<tr><th scope=row>LogReg</th><td>NA</td><td>NA</td><td>NA</td><td>NA</td><td>NA</td></tr>\n",
       "\t<tr><th scope=row>Lasso</th><td>NA</td><td>NA</td><td>NA</td><td>NA</td><td>NA</td></tr>\n",
       "\t<tr><th scope=row>DecTree</th><td>NA</td><td>NA</td><td>NA</td><td>NA</td><td>NA</td></tr>\n",
       "\t<tr><th scope=row>ExTree</th><td>NA</td><td>NA</td><td>NA</td><td>NA</td><td>NA</td></tr>\n",
       "\t<tr><th scope=row>NN</th><td>NA</td><td>NA</td><td>NA</td><td>NA</td><td>NA</td></tr>\n",
       "</tbody>\n",
       "</table>\n"
      ],
      "text/latex": [
       "\\begin{tabular}{r|lllll}\n",
       "  & ENSG00000000003.13 & ENSG00000000971.14 & ENSG00000001084.9 & ENSG00000001561.6 & ENSG00000002586.16\\\\\n",
       "\\hline\n",
       "\tLogReg & NA & NA & NA & NA & NA\\\\\n",
       "\tLasso & NA & NA & NA & NA & NA\\\\\n",
       "\tDecTree & NA & NA & NA & NA & NA\\\\\n",
       "\tExTree & NA & NA & NA & NA & NA\\\\\n",
       "\tNN & NA & NA & NA & NA & NA\\\\\n",
       "\\end{tabular}\n"
      ],
      "text/markdown": [
       "\n",
       "| <!--/--> | ENSG00000000003.13 | ENSG00000000971.14 | ENSG00000001084.9 | ENSG00000001561.6 | ENSG00000002586.16 | \n",
       "|---|---|---|---|---|\n",
       "| LogReg | NA | NA | NA | NA | NA | \n",
       "| Lasso | NA | NA | NA | NA | NA | \n",
       "| DecTree | NA | NA | NA | NA | NA | \n",
       "| ExTree | NA | NA | NA | NA | NA | \n",
       "| NN | NA | NA | NA | NA | NA | \n",
       "\n",
       "\n"
      ],
      "text/plain": [
       "        ENSG00000000003.13 ENSG00000000971.14 ENSG00000001084.9\n",
       "LogReg  NA                 NA                 NA               \n",
       "Lasso   NA                 NA                 NA               \n",
       "DecTree NA                 NA                 NA               \n",
       "ExTree  NA                 NA                 NA               \n",
       "NN      NA                 NA                 NA               \n",
       "        ENSG00000001561.6 ENSG00000002586.16\n",
       "LogReg  NA                NA                \n",
       "Lasso   NA                NA                \n",
       "DecTree NA                NA                \n",
       "ExTree  NA                NA                \n",
       "NN      NA                NA                "
      ]
     },
     "metadata": {},
     "output_type": "display_data"
    },
    {
     "data": {
      "text/html": [
       "<table>\n",
       "<thead><tr><th></th><th scope=col>ENSG00000000003.13</th><th scope=col>ENSG00000000971.14</th><th scope=col>ENSG00000001561.6</th><th scope=col>ENSG00000002586.16</th><th scope=col>ENSG00000003137.7</th></tr></thead>\n",
       "<tbody>\n",
       "\t<tr><th scope=row>LogReg</th><td>NA</td><td>NA</td><td>NA</td><td>NA</td><td>NA</td></tr>\n",
       "\t<tr><th scope=row>Lasso</th><td>NA</td><td>NA</td><td>NA</td><td>NA</td><td>NA</td></tr>\n",
       "\t<tr><th scope=row>DecTree</th><td>NA</td><td>NA</td><td>NA</td><td>NA</td><td>NA</td></tr>\n",
       "\t<tr><th scope=row>ExTree</th><td>NA</td><td>NA</td><td>NA</td><td>NA</td><td>NA</td></tr>\n",
       "\t<tr><th scope=row>NN</th><td>NA</td><td>NA</td><td>NA</td><td>NA</td><td>NA</td></tr>\n",
       "</tbody>\n",
       "</table>\n"
      ],
      "text/latex": [
       "\\begin{tabular}{r|lllll}\n",
       "  & ENSG00000000003.13 & ENSG00000000971.14 & ENSG00000001561.6 & ENSG00000002586.16 & ENSG00000003137.7\\\\\n",
       "\\hline\n",
       "\tLogReg & NA & NA & NA & NA & NA\\\\\n",
       "\tLasso & NA & NA & NA & NA & NA\\\\\n",
       "\tDecTree & NA & NA & NA & NA & NA\\\\\n",
       "\tExTree & NA & NA & NA & NA & NA\\\\\n",
       "\tNN & NA & NA & NA & NA & NA\\\\\n",
       "\\end{tabular}\n"
      ],
      "text/markdown": [
       "\n",
       "| <!--/--> | ENSG00000000003.13 | ENSG00000000971.14 | ENSG00000001561.6 | ENSG00000002586.16 | ENSG00000003137.7 | \n",
       "|---|---|---|---|---|\n",
       "| LogReg | NA | NA | NA | NA | NA | \n",
       "| Lasso | NA | NA | NA | NA | NA | \n",
       "| DecTree | NA | NA | NA | NA | NA | \n",
       "| ExTree | NA | NA | NA | NA | NA | \n",
       "| NN | NA | NA | NA | NA | NA | \n",
       "\n",
       "\n"
      ],
      "text/plain": [
       "        ENSG00000000003.13 ENSG00000000971.14 ENSG00000001561.6\n",
       "LogReg  NA                 NA                 NA               \n",
       "Lasso   NA                 NA                 NA               \n",
       "DecTree NA                 NA                 NA               \n",
       "ExTree  NA                 NA                 NA               \n",
       "NN      NA                 NA                 NA               \n",
       "        ENSG00000002586.16 ENSG00000003137.7\n",
       "LogReg  NA                 NA               \n",
       "Lasso   NA                 NA               \n",
       "DecTree NA                 NA               \n",
       "ExTree  NA                 NA               \n",
       "NN      NA                 NA               "
      ]
     },
     "metadata": {},
     "output_type": "display_data"
    },
    {
     "data": {
      "text/html": [
       "<table>\n",
       "<thead><tr><th></th><th scope=col>ENSG00000000003.13</th><th scope=col>ENSG00000002586.16</th><th scope=col>ENSG00000003436.13</th><th scope=col>ENSG00000004139.12</th><th scope=col>ENSG00000004399.11</th></tr></thead>\n",
       "<tbody>\n",
       "\t<tr><th scope=row>LogReg</th><td>NA</td><td>NA</td><td>NA</td><td>NA</td><td>NA</td></tr>\n",
       "\t<tr><th scope=row>Lasso</th><td>NA</td><td>NA</td><td>NA</td><td>NA</td><td>NA</td></tr>\n",
       "\t<tr><th scope=row>DecTree</th><td>NA</td><td>NA</td><td>NA</td><td>NA</td><td>NA</td></tr>\n",
       "\t<tr><th scope=row>ExTree</th><td>NA</td><td>NA</td><td>NA</td><td>NA</td><td>NA</td></tr>\n",
       "\t<tr><th scope=row>NN</th><td>NA</td><td>NA</td><td>NA</td><td>NA</td><td>NA</td></tr>\n",
       "</tbody>\n",
       "</table>\n"
      ],
      "text/latex": [
       "\\begin{tabular}{r|lllll}\n",
       "  & ENSG00000000003.13 & ENSG00000002586.16 & ENSG00000003436.13 & ENSG00000004139.12 & ENSG00000004399.11\\\\\n",
       "\\hline\n",
       "\tLogReg & NA & NA & NA & NA & NA\\\\\n",
       "\tLasso & NA & NA & NA & NA & NA\\\\\n",
       "\tDecTree & NA & NA & NA & NA & NA\\\\\n",
       "\tExTree & NA & NA & NA & NA & NA\\\\\n",
       "\tNN & NA & NA & NA & NA & NA\\\\\n",
       "\\end{tabular}\n"
      ],
      "text/markdown": [
       "\n",
       "| <!--/--> | ENSG00000000003.13 | ENSG00000002586.16 | ENSG00000003436.13 | ENSG00000004139.12 | ENSG00000004399.11 | \n",
       "|---|---|---|---|---|\n",
       "| LogReg | NA | NA | NA | NA | NA | \n",
       "| Lasso | NA | NA | NA | NA | NA | \n",
       "| DecTree | NA | NA | NA | NA | NA | \n",
       "| ExTree | NA | NA | NA | NA | NA | \n",
       "| NN | NA | NA | NA | NA | NA | \n",
       "\n",
       "\n"
      ],
      "text/plain": [
       "        ENSG00000000003.13 ENSG00000002586.16 ENSG00000003436.13\n",
       "LogReg  NA                 NA                 NA                \n",
       "Lasso   NA                 NA                 NA                \n",
       "DecTree NA                 NA                 NA                \n",
       "ExTree  NA                 NA                 NA                \n",
       "NN      NA                 NA                 NA                \n",
       "        ENSG00000004139.12 ENSG00000004399.11\n",
       "LogReg  NA                 NA                \n",
       "Lasso   NA                 NA                \n",
       "DecTree NA                 NA                \n",
       "ExTree  NA                 NA                \n",
       "NN      NA                 NA                "
      ]
     },
     "metadata": {},
     "output_type": "display_data"
    },
    {
     "data": {
      "text/html": [
       "<table>\n",
       "<thead><tr><th></th><th scope=col>ENSG00000002586.16</th><th scope=col>ENSG00000005381.7</th><th scope=col>ENSG00000007516.12</th><th scope=col>ENSG00000019991.14</th><th scope=col>ENSG00000037280.14</th></tr></thead>\n",
       "<tbody>\n",
       "\t<tr><th scope=row>LogReg</th><td>NA</td><td>NA</td><td>NA</td><td>NA</td><td>NA</td></tr>\n",
       "\t<tr><th scope=row>Lasso</th><td>NA</td><td>NA</td><td>NA</td><td>NA</td><td>NA</td></tr>\n",
       "\t<tr><th scope=row>DecTree</th><td>NA</td><td>NA</td><td>NA</td><td>NA</td><td>NA</td></tr>\n",
       "\t<tr><th scope=row>ExTree</th><td>NA</td><td>NA</td><td>NA</td><td>NA</td><td>NA</td></tr>\n",
       "\t<tr><th scope=row>NN</th><td>NA</td><td>NA</td><td>NA</td><td>NA</td><td>NA</td></tr>\n",
       "</tbody>\n",
       "</table>\n"
      ],
      "text/latex": [
       "\\begin{tabular}{r|lllll}\n",
       "  & ENSG00000002586.16 & ENSG00000005381.7 & ENSG00000007516.12 & ENSG00000019991.14 & ENSG00000037280.14\\\\\n",
       "\\hline\n",
       "\tLogReg & NA & NA & NA & NA & NA\\\\\n",
       "\tLasso & NA & NA & NA & NA & NA\\\\\n",
       "\tDecTree & NA & NA & NA & NA & NA\\\\\n",
       "\tExTree & NA & NA & NA & NA & NA\\\\\n",
       "\tNN & NA & NA & NA & NA & NA\\\\\n",
       "\\end{tabular}\n"
      ],
      "text/markdown": [
       "\n",
       "| <!--/--> | ENSG00000002586.16 | ENSG00000005381.7 | ENSG00000007516.12 | ENSG00000019991.14 | ENSG00000037280.14 | \n",
       "|---|---|---|---|---|\n",
       "| LogReg | NA | NA | NA | NA | NA | \n",
       "| Lasso | NA | NA | NA | NA | NA | \n",
       "| DecTree | NA | NA | NA | NA | NA | \n",
       "| ExTree | NA | NA | NA | NA | NA | \n",
       "| NN | NA | NA | NA | NA | NA | \n",
       "\n",
       "\n"
      ],
      "text/plain": [
       "        ENSG00000002586.16 ENSG00000005381.7 ENSG00000007516.12\n",
       "LogReg  NA                 NA                NA                \n",
       "Lasso   NA                 NA                NA                \n",
       "DecTree NA                 NA                NA                \n",
       "ExTree  NA                 NA                NA                \n",
       "NN      NA                 NA                NA                \n",
       "        ENSG00000019991.14 ENSG00000037280.14\n",
       "LogReg  NA                 NA                \n",
       "Lasso   NA                 NA                \n",
       "DecTree NA                 NA                \n",
       "ExTree  NA                 NA                \n",
       "NN      NA                 NA                "
      ]
     },
     "metadata": {},
     "output_type": "display_data"
    }
   ],
   "source": [
    "# Tables to hold the genes that are selected in each type of model\n",
    "genes.chosen.10k <- data.frame(matrix(nrow=5, ncol=dim(coef.super.matrix.10k)[2]))\n",
    "dimnames(genes.chosen.10k)[[2]] <- dimnames(coef.super.matrix.10k)[[2]]\n",
    "dimnames(genes.chosen.10k)[[1]] <- c(\"LogReg\", \"Lasso\", \"DecTree\", \"ExTree\", \"NN\")\n",
    "genes.chosen.10k[1:5,1:5]\n",
    "\n",
    "genes.chosen.5k <- data.frame(matrix(nrow=5, ncol=dim(coef.super.matrix.5k)[2]))\n",
    "dimnames(genes.chosen.5k)[[2]] <- dimnames(coef.super.matrix.5k)[[2]]\n",
    "dimnames(genes.chosen.5k)[[1]] <- c(\"LogReg\", \"Lasso\", \"DecTree\", \"ExTree\", \"NN\")\n",
    "genes.chosen.5k[1:5,1:5]\n",
    "\n",
    "genes.chosen.2.5k <- data.frame(matrix(nrow=5, ncol=dim(coef.super.matrix.2.5k)[2]))\n",
    "dimnames(genes.chosen.2.5k)[[2]] <- dimnames(coef.super.matrix.2.5k)[[2]]\n",
    "dimnames(genes.chosen.2.5k)[[1]] <- c(\"LogReg\", \"Lasso\", \"DecTree\", \"ExTree\", \"NN\")\n",
    "genes.chosen.2.5k[1:5,1:5]\n",
    "\n",
    "genes.chosen.1k <- data.frame(matrix(nrow=5, ncol=dim(coef.super.matrix.1k)[2]))\n",
    "dimnames(genes.chosen.1k)[[2]] <- dimnames(coef.super.matrix.1k)[[2]]\n",
    "dimnames(genes.chosen.1k)[[1]] <- c(\"LogReg\", \"Lasso\", \"DecTree\", \"ExTree\", \"NN\")\n",
    "genes.chosen.1k[1:5,1:5]\n",
    "\n",
    "genes.chosen.100 <- data.frame(matrix(nrow=5, ncol=dim(coef.super.matrix.100)[2]))\n",
    "dimnames(genes.chosen.100)[[2]] <- dimnames(coef.super.matrix.100)[[2]]\n",
    "dimnames(genes.chosen.100)[[1]] <- c(\"LogReg\", \"Lasso\", \"DecTree\", \"ExTree\", \"NN\")\n",
    "genes.chosen.100[1:5,1:5]"
   ]
  },
  {
   "cell_type": "code",
   "execution_count": 4,
   "metadata": {},
   "outputs": [],
   "source": [
    "# Check if each gene was chosen by a specific ML alg\n",
    "for (j in 1:ncol(coef.super.matrix.10k)) {\n",
    "    genes.chosen.10k[1,j] = round(max(coef.super.matrix.10k[1:5,j]))\n",
    "    genes.chosen.10k[2,j] = round(max(coef.super.matrix.10k[6:10,j]))\n",
    "    genes.chosen.10k[3,j] = round(max(coef.super.matrix.10k[11:15,j]))\n",
    "    genes.chosen.10k[4,j] = round(max(coef.super.matrix.10k[16:20,j]))\n",
    "    genes.chosen.10k[5,j] = round(max(coef.super.matrix.10k[21:25,j]))\n",
    "}\n",
    "\n",
    "# Check if each gene was chosen by a specific ML alg\n",
    "for (j in 1:ncol(coef.super.matrix.5k)) {\n",
    "    genes.chosen.5k[1,j] = round(max(coef.super.matrix.5k[1:5,j]))\n",
    "    genes.chosen.5k[2,j] = round(max(coef.super.matrix.5k[6:10,j]))\n",
    "    genes.chosen.5k[3,j] = round(max(coef.super.matrix.5k[11:15,j]))\n",
    "    genes.chosen.5k[4,j] = round(max(coef.super.matrix.5k[16:20,j]))\n",
    "    genes.chosen.5k[5,j] = round(max(coef.super.matrix.5k[21:25,j]))\n",
    "}\n",
    "\n",
    "# Check if each gene was chosen by a specific ML alg\n",
    "for (j in 1:ncol(coef.super.matrix.2.5k)) {\n",
    "    genes.chosen.2.5k[1,j] = round(max(coef.super.matrix.2.5k[1:5,j]))\n",
    "    genes.chosen.2.5k[2,j] = round(max(coef.super.matrix.2.5k[6:10,j]))\n",
    "    genes.chosen.2.5k[3,j] = round(max(coef.super.matrix.2.5k[11:15,j]))\n",
    "    genes.chosen.2.5k[4,j] = round(max(coef.super.matrix.2.5k[16:20,j]))\n",
    "    genes.chosen.2.5k[5,j] = round(max(coef.super.matrix.2.5k[21:25,j]))\n",
    "}\n",
    "\n",
    "# Check if each gene was chosen by a specific ML alg\n",
    "for (j in 1:ncol(coef.super.matrix.1k)) {\n",
    "    genes.chosen.1k[1,j] = round(max(coef.super.matrix.1k[1:5,j]))\n",
    "    genes.chosen.1k[2,j] = round(max(coef.super.matrix.1k[6:10,j]))\n",
    "    genes.chosen.1k[3,j] = round(max(coef.super.matrix.1k[11:15,j]))\n",
    "    genes.chosen.1k[4,j] = round(max(coef.super.matrix.1k[16:20,j]))\n",
    "    genes.chosen.1k[5,j] = round(max(coef.super.matrix.1k[21:25,j]))\n",
    "}\n",
    "\n",
    "# Check if each gene was chosen by a specific ML alg\n",
    "for (j in 1:ncol(coef.super.matrix.100)) {\n",
    "    genes.chosen.100[1,j] = round(max(coef.super.matrix.100[1:5,j]))\n",
    "    genes.chosen.100[2,j] = round(max(coef.super.matrix.100[6:10,j]))\n",
    "    genes.chosen.100[3,j] = round(max(coef.super.matrix.100[11:15,j]))\n",
    "    genes.chosen.100[4,j] = round(max(coef.super.matrix.100[16:20,j]))\n",
    "    genes.chosen.100[5,j] = round(max(coef.super.matrix.100[21:25,j]))\n",
    "}"
   ]
  },
  {
   "cell_type": "code",
   "execution_count": 5,
   "metadata": {},
   "outputs": [
    {
     "data": {
      "text/html": [
       "<table>\n",
       "<thead><tr><th></th><th scope=col>ENSG00000000003.13</th><th scope=col>ENSG00000000971.14</th><th scope=col>ENSG00000001084.9</th><th scope=col>ENSG00000001167.13</th><th scope=col>ENSG00000001461.15</th></tr></thead>\n",
       "<tbody>\n",
       "\t<tr><th scope=row>LogReg</th><td>1</td><td>1</td><td>1</td><td>1</td><td>1</td></tr>\n",
       "\t<tr><th scope=row>Lasso</th><td>1</td><td>1</td><td>1</td><td>1</td><td>1</td></tr>\n",
       "\t<tr><th scope=row>DecTree</th><td>0</td><td>0</td><td>0</td><td>0</td><td>0</td></tr>\n",
       "\t<tr><th scope=row>ExTree</th><td>0</td><td>0</td><td>0</td><td>0</td><td>0</td></tr>\n",
       "\t<tr><th scope=row>NN</th><td>1</td><td>1</td><td>1</td><td>1</td><td>1</td></tr>\n",
       "</tbody>\n",
       "</table>\n"
      ],
      "text/latex": [
       "\\begin{tabular}{r|lllll}\n",
       "  & ENSG00000000003.13 & ENSG00000000971.14 & ENSG00000001084.9 & ENSG00000001167.13 & ENSG00000001461.15\\\\\n",
       "\\hline\n",
       "\tLogReg & 1 & 1 & 1 & 1 & 1\\\\\n",
       "\tLasso & 1 & 1 & 1 & 1 & 1\\\\\n",
       "\tDecTree & 0 & 0 & 0 & 0 & 0\\\\\n",
       "\tExTree & 0 & 0 & 0 & 0 & 0\\\\\n",
       "\tNN & 1 & 1 & 1 & 1 & 1\\\\\n",
       "\\end{tabular}\n"
      ],
      "text/markdown": [
       "\n",
       "| <!--/--> | ENSG00000000003.13 | ENSG00000000971.14 | ENSG00000001084.9 | ENSG00000001167.13 | ENSG00000001461.15 | \n",
       "|---|---|---|---|---|\n",
       "| LogReg | 1 | 1 | 1 | 1 | 1 | \n",
       "| Lasso | 1 | 1 | 1 | 1 | 1 | \n",
       "| DecTree | 0 | 0 | 0 | 0 | 0 | \n",
       "| ExTree | 0 | 0 | 0 | 0 | 0 | \n",
       "| NN | 1 | 1 | 1 | 1 | 1 | \n",
       "\n",
       "\n"
      ],
      "text/plain": [
       "        ENSG00000000003.13 ENSG00000000971.14 ENSG00000001084.9\n",
       "LogReg  1                  1                  1                \n",
       "Lasso   1                  1                  1                \n",
       "DecTree 0                  0                  0                \n",
       "ExTree  0                  0                  0                \n",
       "NN      1                  1                  1                \n",
       "        ENSG00000001167.13 ENSG00000001461.15\n",
       "LogReg  1                  1                 \n",
       "Lasso   1                  1                 \n",
       "DecTree 0                  0                 \n",
       "ExTree  0                  0                 \n",
       "NN      1                  1                 "
      ]
     },
     "metadata": {},
     "output_type": "display_data"
    },
    {
     "data": {
      "text/html": [
       "<table>\n",
       "<thead><tr><th></th><th scope=col>ENSG00000000003.13</th><th scope=col>ENSG00000000971.14</th><th scope=col>ENSG00000001084.9</th><th scope=col>ENSG00000001561.6</th><th scope=col>ENSG00000002586.16</th></tr></thead>\n",
       "<tbody>\n",
       "\t<tr><th scope=row>LogReg</th><td>1</td><td>1</td><td>1</td><td>1</td><td>1</td></tr>\n",
       "\t<tr><th scope=row>Lasso</th><td>1</td><td>1</td><td>1</td><td>1</td><td>1</td></tr>\n",
       "\t<tr><th scope=row>DecTree</th><td>0</td><td>0</td><td>0</td><td>0</td><td>0</td></tr>\n",
       "\t<tr><th scope=row>ExTree</th><td>0</td><td>0</td><td>0</td><td>0</td><td>0</td></tr>\n",
       "\t<tr><th scope=row>NN</th><td>1</td><td>0</td><td>1</td><td>1</td><td>1</td></tr>\n",
       "</tbody>\n",
       "</table>\n"
      ],
      "text/latex": [
       "\\begin{tabular}{r|lllll}\n",
       "  & ENSG00000000003.13 & ENSG00000000971.14 & ENSG00000001084.9 & ENSG00000001561.6 & ENSG00000002586.16\\\\\n",
       "\\hline\n",
       "\tLogReg & 1 & 1 & 1 & 1 & 1\\\\\n",
       "\tLasso & 1 & 1 & 1 & 1 & 1\\\\\n",
       "\tDecTree & 0 & 0 & 0 & 0 & 0\\\\\n",
       "\tExTree & 0 & 0 & 0 & 0 & 0\\\\\n",
       "\tNN & 1 & 0 & 1 & 1 & 1\\\\\n",
       "\\end{tabular}\n"
      ],
      "text/markdown": [
       "\n",
       "| <!--/--> | ENSG00000000003.13 | ENSG00000000971.14 | ENSG00000001084.9 | ENSG00000001561.6 | ENSG00000002586.16 | \n",
       "|---|---|---|---|---|\n",
       "| LogReg | 1 | 1 | 1 | 1 | 1 | \n",
       "| Lasso | 1 | 1 | 1 | 1 | 1 | \n",
       "| DecTree | 0 | 0 | 0 | 0 | 0 | \n",
       "| ExTree | 0 | 0 | 0 | 0 | 0 | \n",
       "| NN | 1 | 0 | 1 | 1 | 1 | \n",
       "\n",
       "\n"
      ],
      "text/plain": [
       "        ENSG00000000003.13 ENSG00000000971.14 ENSG00000001084.9\n",
       "LogReg  1                  1                  1                \n",
       "Lasso   1                  1                  1                \n",
       "DecTree 0                  0                  0                \n",
       "ExTree  0                  0                  0                \n",
       "NN      1                  0                  1                \n",
       "        ENSG00000001561.6 ENSG00000002586.16\n",
       "LogReg  1                 1                 \n",
       "Lasso   1                 1                 \n",
       "DecTree 0                 0                 \n",
       "ExTree  0                 0                 \n",
       "NN      1                 1                 "
      ]
     },
     "metadata": {},
     "output_type": "display_data"
    },
    {
     "data": {
      "text/html": [
       "<table>\n",
       "<thead><tr><th></th><th scope=col>ENSG00000000003.13</th><th scope=col>ENSG00000000971.14</th><th scope=col>ENSG00000001561.6</th><th scope=col>ENSG00000002586.16</th><th scope=col>ENSG00000003137.7</th></tr></thead>\n",
       "<tbody>\n",
       "\t<tr><th scope=row>LogReg</th><td>1</td><td>1</td><td>1</td><td>1</td><td>1</td></tr>\n",
       "\t<tr><th scope=row>Lasso</th><td>1</td><td>1</td><td>1</td><td>1</td><td>1</td></tr>\n",
       "\t<tr><th scope=row>DecTree</th><td>0</td><td>0</td><td>0</td><td>0</td><td>0</td></tr>\n",
       "\t<tr><th scope=row>ExTree</th><td>0</td><td>0</td><td>0</td><td>1</td><td>0</td></tr>\n",
       "\t<tr><th scope=row>NN</th><td>1</td><td>1</td><td>1</td><td>1</td><td>1</td></tr>\n",
       "</tbody>\n",
       "</table>\n"
      ],
      "text/latex": [
       "\\begin{tabular}{r|lllll}\n",
       "  & ENSG00000000003.13 & ENSG00000000971.14 & ENSG00000001561.6 & ENSG00000002586.16 & ENSG00000003137.7\\\\\n",
       "\\hline\n",
       "\tLogReg & 1 & 1 & 1 & 1 & 1\\\\\n",
       "\tLasso & 1 & 1 & 1 & 1 & 1\\\\\n",
       "\tDecTree & 0 & 0 & 0 & 0 & 0\\\\\n",
       "\tExTree & 0 & 0 & 0 & 1 & 0\\\\\n",
       "\tNN & 1 & 1 & 1 & 1 & 1\\\\\n",
       "\\end{tabular}\n"
      ],
      "text/markdown": [
       "\n",
       "| <!--/--> | ENSG00000000003.13 | ENSG00000000971.14 | ENSG00000001561.6 | ENSG00000002586.16 | ENSG00000003137.7 | \n",
       "|---|---|---|---|---|\n",
       "| LogReg | 1 | 1 | 1 | 1 | 1 | \n",
       "| Lasso | 1 | 1 | 1 | 1 | 1 | \n",
       "| DecTree | 0 | 0 | 0 | 0 | 0 | \n",
       "| ExTree | 0 | 0 | 0 | 1 | 0 | \n",
       "| NN | 1 | 1 | 1 | 1 | 1 | \n",
       "\n",
       "\n"
      ],
      "text/plain": [
       "        ENSG00000000003.13 ENSG00000000971.14 ENSG00000001561.6\n",
       "LogReg  1                  1                  1                \n",
       "Lasso   1                  1                  1                \n",
       "DecTree 0                  0                  0                \n",
       "ExTree  0                  0                  0                \n",
       "NN      1                  1                  1                \n",
       "        ENSG00000002586.16 ENSG00000003137.7\n",
       "LogReg  1                  1                \n",
       "Lasso   1                  1                \n",
       "DecTree 0                  0                \n",
       "ExTree  1                  0                \n",
       "NN      1                  1                "
      ]
     },
     "metadata": {},
     "output_type": "display_data"
    },
    {
     "data": {
      "text/html": [
       "<table>\n",
       "<thead><tr><th></th><th scope=col>ENSG00000000003.13</th><th scope=col>ENSG00000002586.16</th><th scope=col>ENSG00000003436.13</th><th scope=col>ENSG00000004139.12</th><th scope=col>ENSG00000004399.11</th></tr></thead>\n",
       "<tbody>\n",
       "\t<tr><th scope=row>LogReg</th><td>1</td><td>1</td><td>1</td><td>1</td><td>1</td></tr>\n",
       "\t<tr><th scope=row>Lasso</th><td>1</td><td>1</td><td>1</td><td>1</td><td>1</td></tr>\n",
       "\t<tr><th scope=row>DecTree</th><td>0</td><td>0</td><td>0</td><td>0</td><td>0</td></tr>\n",
       "\t<tr><th scope=row>ExTree</th><td>0</td><td>0</td><td>0</td><td>0</td><td>0</td></tr>\n",
       "\t<tr><th scope=row>NN</th><td>1</td><td>1</td><td>1</td><td>1</td><td>1</td></tr>\n",
       "</tbody>\n",
       "</table>\n"
      ],
      "text/latex": [
       "\\begin{tabular}{r|lllll}\n",
       "  & ENSG00000000003.13 & ENSG00000002586.16 & ENSG00000003436.13 & ENSG00000004139.12 & ENSG00000004399.11\\\\\n",
       "\\hline\n",
       "\tLogReg & 1 & 1 & 1 & 1 & 1\\\\\n",
       "\tLasso & 1 & 1 & 1 & 1 & 1\\\\\n",
       "\tDecTree & 0 & 0 & 0 & 0 & 0\\\\\n",
       "\tExTree & 0 & 0 & 0 & 0 & 0\\\\\n",
       "\tNN & 1 & 1 & 1 & 1 & 1\\\\\n",
       "\\end{tabular}\n"
      ],
      "text/markdown": [
       "\n",
       "| <!--/--> | ENSG00000000003.13 | ENSG00000002586.16 | ENSG00000003436.13 | ENSG00000004139.12 | ENSG00000004399.11 | \n",
       "|---|---|---|---|---|\n",
       "| LogReg | 1 | 1 | 1 | 1 | 1 | \n",
       "| Lasso | 1 | 1 | 1 | 1 | 1 | \n",
       "| DecTree | 0 | 0 | 0 | 0 | 0 | \n",
       "| ExTree | 0 | 0 | 0 | 0 | 0 | \n",
       "| NN | 1 | 1 | 1 | 1 | 1 | \n",
       "\n",
       "\n"
      ],
      "text/plain": [
       "        ENSG00000000003.13 ENSG00000002586.16 ENSG00000003436.13\n",
       "LogReg  1                  1                  1                 \n",
       "Lasso   1                  1                  1                 \n",
       "DecTree 0                  0                  0                 \n",
       "ExTree  0                  0                  0                 \n",
       "NN      1                  1                  1                 \n",
       "        ENSG00000004139.12 ENSG00000004399.11\n",
       "LogReg  1                  1                 \n",
       "Lasso   1                  1                 \n",
       "DecTree 0                  0                 \n",
       "ExTree  0                  0                 \n",
       "NN      1                  1                 "
      ]
     },
     "metadata": {},
     "output_type": "display_data"
    },
    {
     "data": {
      "text/html": [
       "<table>\n",
       "<thead><tr><th></th><th scope=col>ENSG00000002586.16</th><th scope=col>ENSG00000005381.7</th><th scope=col>ENSG00000007516.12</th><th scope=col>ENSG00000019991.14</th><th scope=col>ENSG00000037280.14</th></tr></thead>\n",
       "<tbody>\n",
       "\t<tr><th scope=row>LogReg</th><td>1</td><td>1</td><td>1</td><td>1</td><td>1</td></tr>\n",
       "\t<tr><th scope=row>Lasso</th><td>1</td><td>1</td><td>1</td><td>1</td><td>1</td></tr>\n",
       "\t<tr><th scope=row>DecTree</th><td>0</td><td>0</td><td>0</td><td>0</td><td>0</td></tr>\n",
       "\t<tr><th scope=row>ExTree</th><td>0</td><td>0</td><td>0</td><td>0</td><td>0</td></tr>\n",
       "\t<tr><th scope=row>NN</th><td>1</td><td>1</td><td>1</td><td>1</td><td>1</td></tr>\n",
       "</tbody>\n",
       "</table>\n"
      ],
      "text/latex": [
       "\\begin{tabular}{r|lllll}\n",
       "  & ENSG00000002586.16 & ENSG00000005381.7 & ENSG00000007516.12 & ENSG00000019991.14 & ENSG00000037280.14\\\\\n",
       "\\hline\n",
       "\tLogReg & 1 & 1 & 1 & 1 & 1\\\\\n",
       "\tLasso & 1 & 1 & 1 & 1 & 1\\\\\n",
       "\tDecTree & 0 & 0 & 0 & 0 & 0\\\\\n",
       "\tExTree & 0 & 0 & 0 & 0 & 0\\\\\n",
       "\tNN & 1 & 1 & 1 & 1 & 1\\\\\n",
       "\\end{tabular}\n"
      ],
      "text/markdown": [
       "\n",
       "| <!--/--> | ENSG00000002586.16 | ENSG00000005381.7 | ENSG00000007516.12 | ENSG00000019991.14 | ENSG00000037280.14 | \n",
       "|---|---|---|---|---|\n",
       "| LogReg | 1 | 1 | 1 | 1 | 1 | \n",
       "| Lasso | 1 | 1 | 1 | 1 | 1 | \n",
       "| DecTree | 0 | 0 | 0 | 0 | 0 | \n",
       "| ExTree | 0 | 0 | 0 | 0 | 0 | \n",
       "| NN | 1 | 1 | 1 | 1 | 1 | \n",
       "\n",
       "\n"
      ],
      "text/plain": [
       "        ENSG00000002586.16 ENSG00000005381.7 ENSG00000007516.12\n",
       "LogReg  1                  1                 1                 \n",
       "Lasso   1                  1                 1                 \n",
       "DecTree 0                  0                 0                 \n",
       "ExTree  0                  0                 0                 \n",
       "NN      1                  1                 1                 \n",
       "        ENSG00000019991.14 ENSG00000037280.14\n",
       "LogReg  1                  1                 \n",
       "Lasso   1                  1                 \n",
       "DecTree 0                  0                 \n",
       "ExTree  0                  0                 \n",
       "NN      1                  1                 "
      ]
     },
     "metadata": {},
     "output_type": "display_data"
    }
   ],
   "source": [
    "# Sanity check\n",
    "genes.chosen.10k[1:5,1:5]\n",
    "genes.chosen.5k[1:5,1:5]\n",
    "genes.chosen.2.5k[1:5,1:5]\n",
    "genes.chosen.1k[1:5,1:5]\n",
    "genes.chosen.100[1:5,1:5]"
   ]
  },
  {
   "cell_type": "code",
   "execution_count": 6,
   "metadata": {},
   "outputs": [],
   "source": [
    "# Transpose to work with function below\n",
    "genes.chosen.10k.t <- t(genes.chosen.10k)\n",
    "genes.chosen.5k.t <- t(genes.chosen.5k)\n",
    "genes.chosen.2.5k.t <- t(genes.chosen.2.5k)\n",
    "genes.chosen.1k.t <- t(genes.chosen.1k)\n",
    "genes.chosen.100.t <- t(genes.chosen.100)"
   ]
  },
  {
   "cell_type": "code",
   "execution_count": 7,
   "metadata": {},
   "outputs": [],
   "source": [
    "# Get the venn diagram counts\n",
    "genes.chosen.venn.counts.10k <- vennCounts(genes.chosen.10k.t)\n",
    "genes.chosen.venn.counts.5k <- vennCounts(genes.chosen.5k.t)\n",
    "genes.chosen.venn.counts.2.5k <- vennCounts(genes.chosen.2.5k.t)\n",
    "genes.chosen.venn.counts.1k <- vennCounts(genes.chosen.1k.t)\n",
    "genes.chosen.venn.counts.100 <- vennCounts(genes.chosen.100.t)"
   ]
  },
  {
   "cell_type": "code",
   "execution_count": 8,
   "metadata": {},
   "outputs": [
    {
     "data": {
      "text/plain": [
       "   LogReg Lasso DecTree ExTree NN Counts\n",
       "1       0     0       0      0  0      0\n",
       "2       0     0       0      0  1      0\n",
       "3       0     0       0      1  0      0\n",
       "4       0     0       0      1  1      0\n",
       "5       0     0       1      0  0      0\n",
       "6       0     0       1      0  1      0\n",
       "7       0     0       1      1  0      0\n",
       "8       0     0       1      1  1      0\n",
       "9       0     1       0      0  0    625\n",
       "10      0     1       0      0  1   9234\n",
       "11      0     1       0      1  0      1\n",
       "12      0     1       0      1  1     24\n",
       "13      0     1       1      0  0      0\n",
       "14      0     1       1      0  1      0\n",
       "15      0     1       1      1  0      0\n",
       "16      0     1       1      1  1      2\n",
       "17      1     0       0      0  0      0\n",
       "18      1     0       0      0  1      0\n",
       "19      1     0       0      1  0      0\n",
       "20      1     0       0      1  1      0\n",
       "21      1     0       1      0  0      0\n",
       "22      1     0       1      0  1      0\n",
       "23      1     0       1      1  0      0\n",
       "24      1     0       1      1  1      0\n",
       "25      1     1       0      0  0     11\n",
       "26      1     1       0      0  1    128\n",
       "27      1     1       0      1  0      0\n",
       "28      1     1       0      1  1      1\n",
       "29      1     1       1      0  0      0\n",
       "30      1     1       1      0  1      0\n",
       "31      1     1       1      1  0      0\n",
       "32      1     1       1      1  1      0\n",
       "attr(,\"class\")\n",
       "[1] \"VennCounts\""
      ]
     },
     "metadata": {},
     "output_type": "display_data"
    }
   ],
   "source": [
    "# Sanity check\n",
    "genes.chosen.venn.counts.10k"
   ]
  },
  {
   "cell_type": "code",
   "execution_count": 9,
   "metadata": {},
   "outputs": [
    {
     "data": {
      "image/png": "[encoded data removed]",
      "text/plain": [
       "Plot with title “100 Genes”"
      ]
     },
     "metadata": {},
     "output_type": "display_data"
    }
   ],
   "source": [
    "# Print venn diagrams to notebook\n",
    "par(mfrow=c(3,2))\n",
    "vennDiagram(genes.chosen.venn.counts.10k, main=\"10k Genes\")\n",
    "vennDiagram(genes.chosen.venn.counts.5k, main=\"5k Genes\")\n",
    "vennDiagram(genes.chosen.venn.counts.2.5k, main=\"2.5k Genes\")\n",
    "vennDiagram(genes.chosen.venn.counts.1k, main=\"1k Genes\")\n",
    "vennDiagram(genes.chosen.venn.counts.100, main=\"100 Genes\")"
   ]
  },
  {
   "cell_type": "code",
   "execution_count": null,
   "metadata": {},
   "outputs": [],
   "source": []
  }
 ],
 "metadata": {
  "kernelspec": {
   "display_name": "R",
   "language": "R",
   "name": "ir"
  },
  "language_info": {
   "codemirror_mode": "r",
   "file_extension": ".r",
   "mimetype": "text/x-r-source",
   "name": "R",
   "pygments_lexer": "r",
   "version": "3.4.4"
  }
 },
 "nbformat": 4,
 "nbformat_minor": 2
}
