{
 "cells": [
  {
   "cell_type": "markdown",
   "metadata": {},
   "source": [
    "# Original Data Processing\n",
    "\n",
    "## Overview\n",
    "TARGET AML data used. Original file is AML_assay_clinical.csv from the ConsensusML Hackathon github. The original file contains both clinical data and RNAseq counts for approximately 187 patient samples.\n",
    "<br>\n",
    "<br>\n",
    "In this notebook, we divide up the data into the following two sets:\n",
    "1. Patients x RNAseq. The unique identifer for each patient sample was chosen as the entity_id. Some patients had mutliple samples. Since each sample's RNAseq data was different, both sets of data were used as separate data points. \n",
    "2. Patients x Risk. The data had four categories for risk: low, standard, high, and unknown. We removed patient samples with unknown risk scores. Low risk patients were given the 0 category, while standard and high risk patients were given the 1 category. One of the reasons for this is the low quantity of high risk patients compared to any other known risk level.\n",
    "\n",
    "Files output are aml.data.RNA.csv and aml.data.labels.csv, respectively.\n",
    "\n",
    "### Read in Data"
   ]
  },
  {
   "cell_type": "code",
   "execution_count": 7,
   "metadata": {},
   "outputs": [],
   "source": [
    "all.data <- read.table(\"AML_assay_clinical.csv\", sep=\",\", header=TRUE)"
   ]
  },
  {
   "cell_type": "code",
   "execution_count": 40,
   "metadata": {},
   "outputs": [
    {
     "data": {
      "text/html": [
       "<ol class=list-inline>\n",
       "\t<li>187</li>\n",
       "\t<li>21492</li>\n",
       "</ol>\n"
      ],
      "text/latex": [
       "\\begin{enumerate*}\n",
       "\\item 187\n",
       "\\item 21492\n",
       "\\end{enumerate*}\n"
      ],
      "text/markdown": [
       "1. 187\n",
       "2. 21492\n",
       "\n",
       "\n"
      ],
      "text/plain": [
       "[1]   187 21492"
      ]
     },
     "metadata": {},
     "output_type": "display_data"
    }
   ],
   "source": [
    "dim(all.data)"
   ]
  },
  {
   "cell_type": "markdown",
   "metadata": {},
   "source": [
    "### Find indices of interest:\n",
    "- 57: column \"Risk.group\"\n",
    "- 82: column \"entity_id\"\n",
    "- 86: first column of RNAseq count data.\n",
    "- 21490 to 21492: X_no_feature, X_ambiguous, X_alignment_not_unique columns"
   ]
  },
  {
   "cell_type": "code",
   "execution_count": 19,
   "metadata": {},
   "outputs": [
    {
     "data": {
      "text/html": [
       "57"
      ],
      "text/latex": [
       "57"
      ],
      "text/markdown": [
       "57"
      ],
      "text/plain": [
       "[1] 57"
      ]
     },
     "metadata": {},
     "output_type": "display_data"
    },
    {
     "data": {
      "text/html": [
       "82"
      ],
      "text/latex": [
       "82"
      ],
      "text/markdown": [
       "82"
      ],
      "text/plain": [
       "[1] 82"
      ]
     },
     "metadata": {},
     "output_type": "display_data"
    },
    {
     "data": {
      "text/html": [
       "85"
      ],
      "text/latex": [
       "85"
      ],
      "text/markdown": [
       "85"
      ],
      "text/plain": [
       "[1] 85"
      ]
     },
     "metadata": {},
     "output_type": "display_data"
    },
    {
     "data": {
      "text/html": [
       "21490"
      ],
      "text/latex": [
       "21490"
      ],
      "text/markdown": [
       "21490"
      ],
      "text/plain": [
       "[1] 21490"
      ]
     },
     "metadata": {},
     "output_type": "display_data"
    },
    {
     "data": {
      "text/html": [
       "'X__no_feature'"
      ],
      "text/latex": [
       "'X\\_\\_no\\_feature'"
      ],
      "text/markdown": [
       "'X__no_feature'"
      ],
      "text/plain": [
       "[1] \"X__no_feature\""
      ]
     },
     "metadata": {},
     "output_type": "display_data"
    }
   ],
   "source": [
    "which(dimnames(all.data)[[2]] == \"Risk.group\")\n",
    "which(dimnames(all.data)[[2]] == \"entity_id\")\n",
    "# Get last index of last column before RNAseq data starts\n",
    "which(dimnames(all.data)[[2]] == \"entity_type\")\n",
    "dim(all.data)[2] - 2\n",
    "# Check that the column number from above line is start of the three unnecessary lines\n",
    "dimnames(all.data)[[2]][dim(all.data)[2]-2]"
   ]
  },
  {
   "cell_type": "markdown",
   "metadata": {},
   "source": [
    "### Remove patient samples with Unknown risk"
   ]
  },
  {
   "cell_type": "code",
   "execution_count": 41,
   "metadata": {},
   "outputs": [
    {
     "data": {
      "text/html": [
       "10"
      ],
      "text/latex": [
       "10"
      ],
      "text/markdown": [
       "10"
      ],
      "text/plain": [
       "[1] 10"
      ]
     },
     "metadata": {},
     "output_type": "display_data"
    },
    {
     "data": {
      "text/html": [
       "<ol class=list-inline>\n",
       "\t<li>177</li>\n",
       "\t<li>21492</li>\n",
       "</ol>\n"
      ],
      "text/latex": [
       "\\begin{enumerate*}\n",
       "\\item 177\n",
       "\\item 21492\n",
       "\\end{enumerate*}\n"
      ],
      "text/markdown": [
       "1. 177\n",
       "2. 21492\n",
       "\n",
       "\n"
      ],
      "text/plain": [
       "[1]   177 21492"
      ]
     },
     "metadata": {},
     "output_type": "display_data"
    }
   ],
   "source": [
    "indices.unknown <- which(all.data[,57] == \"Unknown\")\n",
    "# Check how many patient samples we should be removing\n",
    "length(indices.unknown)\n",
    "# Remove patient samples from dataset\n",
    "all.data <- all.data[-indices.unknown,]\n",
    "dim(all.data)"
   ]
  },
  {
   "cell_type": "markdown",
   "metadata": {},
   "source": [
    "### Divide data into tables"
   ]
  },
  {
   "cell_type": "code",
   "execution_count": 42,
   "metadata": {},
   "outputs": [
    {
     "data": {
      "text/html": [
       "<table>\n",
       "<thead><tr><th></th><th scope=col>entity_id</th><th scope=col>ENSG00000000003.13</th><th scope=col>ENSG00000000005.5</th><th scope=col>ENSG00000000419.11</th><th scope=col>ENSG00000000457.12</th></tr></thead>\n",
       "<tbody>\n",
       "\t<tr><th scope=row>1</th><td>c78f2949-4050-5f14-a401-beddf3ff9f61</td><td>-3.3177181                          </td><td>-5.407333                           </td><td>5.323569                            </td><td>2.961357                            </td></tr>\n",
       "\t<tr><th scope=row>4</th><td>1507ac24-8ba2-5e57-a05a-86b5157c8377</td><td>-1.7809495                          </td><td>-6.121355                           </td><td>3.640955                            </td><td>3.708995                            </td></tr>\n",
       "\t<tr><th scope=row>5</th><td>5f49d1ae-e832-59de-89e1-93b6327232f0</td><td>-0.1600151                          </td><td>-6.927145                           </td><td>4.303660                            </td><td>2.955840                            </td></tr>\n",
       "\t<tr><th scope=row>6</th><td>9d464669-4fa5-5c48-b1b0-f452bee4682e</td><td>-2.0565009                          </td><td>-4.747010                           </td><td>4.011269                            </td><td>1.708597                            </td></tr>\n",
       "\t<tr><th scope=row>8</th><td>dcc4d9f2-0f77-58ce-8064-f6e12bffa5e7</td><td>-1.9643428                          </td><td>-6.083680                           </td><td>5.198414                            </td><td>2.732599                            </td></tr>\n",
       "</tbody>\n",
       "</table>\n"
      ],
      "text/latex": [
       "\\begin{tabular}{r|lllll}\n",
       "  & entity\\_id & ENSG00000000003.13 & ENSG00000000005.5 & ENSG00000000419.11 & ENSG00000000457.12\\\\\n",
       "\\hline\n",
       "\t1 & c78f2949-4050-5f14-a401-beddf3ff9f61 & -3.3177181                           & -5.407333                            & 5.323569                             & 2.961357                            \\\\\n",
       "\t4 & 1507ac24-8ba2-5e57-a05a-86b5157c8377 & -1.7809495                           & -6.121355                            & 3.640955                             & 3.708995                            \\\\\n",
       "\t5 & 5f49d1ae-e832-59de-89e1-93b6327232f0 & -0.1600151                           & -6.927145                            & 4.303660                             & 2.955840                            \\\\\n",
       "\t6 & 9d464669-4fa5-5c48-b1b0-f452bee4682e & -2.0565009                           & -4.747010                            & 4.011269                             & 1.708597                            \\\\\n",
       "\t8 & dcc4d9f2-0f77-58ce-8064-f6e12bffa5e7 & -1.9643428                           & -6.083680                            & 5.198414                             & 2.732599                            \\\\\n",
       "\\end{tabular}\n"
      ],
      "text/markdown": [
       "\n",
       "| <!--/--> | entity_id | ENSG00000000003.13 | ENSG00000000005.5 | ENSG00000000419.11 | ENSG00000000457.12 |\n",
       "|---|---|---|---|---|---|\n",
       "| 1 | c78f2949-4050-5f14-a401-beddf3ff9f61 | -3.3177181                           | -5.407333                            | 5.323569                             | 2.961357                             |\n",
       "| 4 | 1507ac24-8ba2-5e57-a05a-86b5157c8377 | -1.7809495                           | -6.121355                            | 3.640955                             | 3.708995                             |\n",
       "| 5 | 5f49d1ae-e832-59de-89e1-93b6327232f0 | -0.1600151                           | -6.927145                            | 4.303660                             | 2.955840                             |\n",
       "| 6 | 9d464669-4fa5-5c48-b1b0-f452bee4682e | -2.0565009                           | -4.747010                            | 4.011269                             | 1.708597                             |\n",
       "| 8 | dcc4d9f2-0f77-58ce-8064-f6e12bffa5e7 | -1.9643428                           | -6.083680                            | 5.198414                             | 2.732599                             |\n",
       "\n"
      ],
      "text/plain": [
       "  entity_id                            ENSG00000000003.13 ENSG00000000005.5\n",
       "1 c78f2949-4050-5f14-a401-beddf3ff9f61 -3.3177181         -5.407333        \n",
       "4 1507ac24-8ba2-5e57-a05a-86b5157c8377 -1.7809495         -6.121355        \n",
       "5 5f49d1ae-e832-59de-89e1-93b6327232f0 -0.1600151         -6.927145        \n",
       "6 9d464669-4fa5-5c48-b1b0-f452bee4682e -2.0565009         -4.747010        \n",
       "8 dcc4d9f2-0f77-58ce-8064-f6e12bffa5e7 -1.9643428         -6.083680        \n",
       "  ENSG00000000419.11 ENSG00000000457.12\n",
       "1 5.323569           2.961357          \n",
       "4 3.640955           3.708995          \n",
       "5 4.303660           2.955840          \n",
       "6 4.011269           1.708597          \n",
       "8 5.198414           2.732599          "
      ]
     },
     "metadata": {},
     "output_type": "display_data"
    }
   ],
   "source": [
    "data.RNA <- all.data[, c(82, 86:21489)]\n",
    "data.RNA[1:5,1:5]"
   ]
  },
  {
   "cell_type": "code",
   "execution_count": 88,
   "metadata": {},
   "outputs": [],
   "source": [
    "# Get entity_id column\n",
    "data.labels <- data.frame(matrix(nrow=dim(all.data)[1], ncol=2))\n",
    "data.labels[,1] <- all.data[,82]\n",
    "dimnames(data.labels)[[2]] <- c(\"entity_id\", \"risk\")"
   ]
  },
  {
   "cell_type": "code",
   "execution_count": 89,
   "metadata": {},
   "outputs": [],
   "source": [
    "# Change low risk labels to 0 and high + standard risk labels to 1\n",
    "for (i in 1:nrow(all.data)) {\n",
    "    if (all.data[i, 57] == \"Low\") {\n",
    "        data.labels[i,2] <- 0\n",
    "    } else {\n",
    "        data.labels[i,2] <- 1\n",
    "        }\n",
    "}"
   ]
  },
  {
   "cell_type": "markdown",
   "metadata": {},
   "source": [
    "### Output tables to files"
   ]
  },
  {
   "cell_type": "code",
   "execution_count": 94,
   "metadata": {},
   "outputs": [],
   "source": [
    "write.csv(data.RNA, file = \"aml.data.RNA.csv\", row.names=FALSE)\n",
    "write.csv(data.labels, file = \"aml.data.labels.csv\", row.names=FALSE)"
   ]
  },
  {
   "cell_type": "code",
   "execution_count": null,
   "metadata": {},
   "outputs": [],
   "source": []
  }
 ],
 "metadata": {
  "kernelspec": {
   "display_name": "R",
   "language": "R",
   "name": "ir"
  },
  "language_info": {
   "codemirror_mode": "r",
   "file_extension": ".r",
   "mimetype": "text/x-r-source",
   "name": "R",
   "pygments_lexer": "r",
   "version": "3.5.1"
  }
 },
 "nbformat": 4,
 "nbformat_minor": 2
}
